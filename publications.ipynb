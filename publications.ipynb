{
 "cells": [
  {
   "cell_type": "raw",
   "metadata": {},
   "source": [
    "---\n",
    "title: \"Recent Publications\"\n",
    "---"
   ]
  },
  {
   "cell_type": "markdown",
   "metadata": {},
   "source": [
    "## Journals\n",
    "\n",
    "- Limin Ma, **Ken Pu**, Ying Zhu, Wesley Taylor, \"_Comparing Large Language Models for Generating Complex Queries_\",\n",
    "Journal of Computer and Communications Vol.13 No.2，February 28, 2025. arxiv manuscript: [PDF](https://arxiv.org/pdf/2407.19517)\n",
    "\n",
    "- Nargesian, Fatemeh, Ken Qian Pu, Bahar Ghadiri Bashardoost, Erkang Zhu, and Renee J. Miller. \"_Data Lake Organization._\" IEEE Transactions on Knowledge and Data Engineering (2022). [PDF](static/pdfs/Data_Lake_Organization.pdf)\n",
    "\n",
    "## Conferences & Workshops\n",
    "\n",
    "- Fu, Z., Yang, C., Davoudi, H. and **Pu, K.**, 2024. \"_Transforming Text-to-SQL Datasets into Closed-Domain NER Benchmark_\". Ontario DataBase Day–Program, p.12.\n",
    "\n",
    "- Limin Ma and **Ken Q. Pu**. \"_Accelerating Relational Keyword Queries With Embedded Predictive Neural Networks._\" 2024 IEEE 25th International Conference on Information Reuse and Integration for Data Science (IRI). IEEE Computer Society, 2024.\n",
    "\n",
    "- Mekael Wasti, **Ken Q. Pu** and Ali Neshati. \"_Voice Interactive User Interfaces Powered by LLMs_.\" Intelligent Systems Conference (IntelliSys) 2024.\n",
    "\n",
    "- **Pu, Ken**, and Limin Ma. \"_Incremental Computation of Information Gain in Temporal Relational Streams_.\" 2022 IEEE 23rd International Conference on Information Reuse and Integration for Data Science (IRI). IEEE Computer Society, 2022.\n",
    "\n",
    "- Valdron, Michael, and **Pu, Ken**. \"_Data Driven Relational Constraint Programming._\" 2020 IEEE 21st International Conference on Information Reuse and Integration for Data Science (IRI). IEEE Computer Society, 2020. [PDF](static/pdfs/Data_Constraint_Programming.pdf)"
   ]
  },
  {
   "cell_type": "markdown",
   "metadata": {},
   "source": [
    "::: {style=\"margin-top: 50px; text-align:right\"}\n",
    "A complete list can be found on <a href=\"https://scholar.google.ca/citations?hl=en&user=2e4fvkwAAAAJ&view_op=list_works&sortby=pubdate\">Google Scholar</a>.\n",
    ":::"
   ]
  },
  {
   "cell_type": "code",
   "execution_count": 4,
   "metadata": {},
   "outputs": [
    {
     "data": {
      "text/html": [
       "\n"
      ],
      "text/plain": [
       "<IPython.core.display.HTML object>"
      ]
     },
     "execution_count": 4,
     "metadata": {},
     "output_type": "execute_result"
    }
   ],
   "source": [
    "#| echo: false\n",
    "from IPython.display import HTML\n",
    "HTML(\"\"\"\n",
    "\"\"\")"
   ]
  }
 ],
 "metadata": {
  "kernelspec": {
   "display_name": ".venv",
   "language": "python",
   "name": "python3"
  },
  "language_info": {
   "codemirror_mode": {
    "name": "ipython",
    "version": 3
   },
   "file_extension": ".py",
   "mimetype": "text/x-python",
   "name": "python",
   "nbconvert_exporter": "python",
   "pygments_lexer": "ipython3",
   "version": "3.10.9"
  }
 },
 "nbformat": 4,
 "nbformat_minor": 2
}
